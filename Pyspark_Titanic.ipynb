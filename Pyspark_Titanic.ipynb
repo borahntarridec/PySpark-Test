{
 "cells": [
  {
   "cell_type": "code",
   "execution_count": null,
   "metadata": {
    "collapsed": true
   },
   "outputs": [],
   "source": [
    "import pandas as pd\n",
    "import pyspark\n",
    "\n",
    "import seaborn  as sns\n",
    "import matplotlib.pyplot as plt\n",
    "%matplotlib inline\n",
    "\n",
    "from pyspark.sql.functions import avg, stddev\n",
    "from pyspark.ml.feature import StringIndexer, OneHotEncoder, VectorAssembler\n",
    "from pyspark.ml import Pipeline\n",
    "\n",
    "from pyspark.ml.classification import LogisticRegression, DecisionTreeClassifier, \\\n",
    "                                        RandomForestClassifier\n",
    "\n",
    "from pyspark.ml.evaluation import BinaryClassificationEvaluator\n",
    "from pyspark.ml.tuning import CrossValidator, ParamGridBuilder\n",
    "\n",
    "from sklearn.metrics import roc_curve, auc"
   ]
  },
  {
   "cell_type": "code",
   "execution_count": 39,
   "metadata": {
    "collapsed": true
   },
   "outputs": [],
   "source": [
    "sc = pyspark.SparkContext.getOrCreate()"
   ]
  },
  {
   "cell_type": "code",
   "execution_count": 40,
   "metadata": {},
   "outputs": [
    {
     "data": {
      "text/html": [
       "\n",
       "        <div>\n",
       "            <p><b>SparkContext</b></p>\n",
       "\n",
       "            <p><a href=\"http://172.17.0.10:4040\">Spark UI</a></p>\n",
       "\n",
       "            <dl>\n",
       "              <dt>Version</dt>\n",
       "                <dd><code>v2.2.0</code></dd>\n",
       "              <dt>Master</dt>\n",
       "                <dd><code>local[*]</code></dd>\n",
       "              <dt>AppName</dt>\n",
       "                <dd><code>pyspark-shell</code></dd>\n",
       "            </dl>\n",
       "        </div>\n",
       "        "
      ],
      "text/plain": [
       "<SparkContext master=local[*] appName=pyspark-shell>"
      ]
     },
     "execution_count": 40,
     "metadata": {},
     "output_type": "execute_result"
    }
   ],
   "source": [
    "sc"
   ]
  },
  {
   "cell_type": "code",
   "execution_count": 41,
   "metadata": {
    "collapsed": true
   },
   "outputs": [],
   "source": [
    "sql_sc = pyspark.SQLContext(sc)"
   ]
  },
  {
   "cell_type": "markdown",
   "metadata": {},
   "source": [
    "#### IMPORT TITANIC DATASET"
   ]
  },
  {
   "cell_type": "code",
   "execution_count": 43,
   "metadata": {
    "collapsed": true
   },
   "outputs": [],
   "source": [
    "titanic_ddf = (sql_sc\n",
    "              .read\n",
    "              .option('sep', ',')\n",
    "              .option('header', 'true')\n",
    "              .option('inferSchema', 'true')\n",
    "              .csv('titanic_train.csv')\n",
    "              )"
   ]
  },
  {
   "cell_type": "code",
   "execution_count": 44,
   "metadata": {},
   "outputs": [
    {
     "name": "stdout",
     "output_type": "stream",
     "text": [
      "root\n",
      " |-- PassengerId: integer (nullable = true)\n",
      " |-- Survived: integer (nullable = true)\n",
      " |-- Pclass: integer (nullable = true)\n",
      " |-- Name: string (nullable = true)\n",
      " |-- Sex: string (nullable = true)\n",
      " |-- Age: double (nullable = true)\n",
      " |-- SibSp: integer (nullable = true)\n",
      " |-- Parch: integer (nullable = true)\n",
      " |-- Ticket: string (nullable = true)\n",
      " |-- Fare: double (nullable = true)\n",
      " |-- Cabin: string (nullable = true)\n",
      " |-- Embarked: string (nullable = true)\n",
      "\n"
     ]
    },
    {
     "data": {
      "text/plain": [
       "(None, 891)"
      ]
     },
     "execution_count": 44,
     "metadata": {},
     "output_type": "execute_result"
    }
   ],
   "source": [
    "titanic_ddf.printSchema(), titanic_ddf.count()"
   ]
  },
  {
   "cell_type": "code",
   "execution_count": 45,
   "metadata": {},
   "outputs": [
    {
     "name": "stdout",
     "output_type": "stream",
     "text": [
      "+-----------+--------+------+--------------------+------+----+-----+-----+----------------+-------+-----+--------+\n",
      "|PassengerId|Survived|Pclass|                Name|   Sex| Age|SibSp|Parch|          Ticket|   Fare|Cabin|Embarked|\n",
      "+-----------+--------+------+--------------------+------+----+-----+-----+----------------+-------+-----+--------+\n",
      "|          1|       0|     3|Braund, Mr. Owen ...|  male|22.0|    1|    0|       A/5 21171|   7.25| null|       S|\n",
      "|          2|       1|     1|Cumings, Mrs. Joh...|female|38.0|    1|    0|        PC 17599|71.2833|  C85|       C|\n",
      "|          3|       1|     3|Heikkinen, Miss. ...|female|26.0|    0|    0|STON/O2. 3101282|  7.925| null|       S|\n",
      "+-----------+--------+------+--------------------+------+----+-----+-----+----------------+-------+-----+--------+\n",
      "only showing top 3 rows\n",
      "\n"
     ]
    }
   ],
   "source": [
    "titanic_ddf.show(3)"
   ]
  },
  {
   "cell_type": "code",
   "execution_count": 46,
   "metadata": {},
   "outputs": [
    {
     "data": {
      "text/html": [
       "<div>\n",
       "<table border=\"1\" class=\"dataframe\">\n",
       "  <thead>\n",
       "    <tr style=\"text-align: right;\">\n",
       "      <th>summary</th>\n",
       "      <th>count</th>\n",
       "      <th>mean</th>\n",
       "      <th>stddev</th>\n",
       "      <th>min</th>\n",
       "      <th>max</th>\n",
       "    </tr>\n",
       "  </thead>\n",
       "  <tbody>\n",
       "    <tr>\n",
       "      <th>PassengerId</th>\n",
       "      <td>891</td>\n",
       "      <td>446.0</td>\n",
       "      <td>257.3538420152301</td>\n",
       "      <td>1</td>\n",
       "      <td>891</td>\n",
       "    </tr>\n",
       "    <tr>\n",
       "      <th>Survived</th>\n",
       "      <td>891</td>\n",
       "      <td>0.3838383838383838</td>\n",
       "      <td>0.48659245426485753</td>\n",
       "      <td>0</td>\n",
       "      <td>1</td>\n",
       "    </tr>\n",
       "    <tr>\n",
       "      <th>Pclass</th>\n",
       "      <td>891</td>\n",
       "      <td>2.308641975308642</td>\n",
       "      <td>0.8360712409770491</td>\n",
       "      <td>1</td>\n",
       "      <td>3</td>\n",
       "    </tr>\n",
       "    <tr>\n",
       "      <th>Name</th>\n",
       "      <td>891</td>\n",
       "      <td>None</td>\n",
       "      <td>None</td>\n",
       "      <td>\"Andersson, Mr. August Edvard (\"\"Wennerstrom\"\")\"</td>\n",
       "      <td>van Melkebeke, Mr. Philemon</td>\n",
       "    </tr>\n",
       "    <tr>\n",
       "      <th>Sex</th>\n",
       "      <td>891</td>\n",
       "      <td>None</td>\n",
       "      <td>None</td>\n",
       "      <td>female</td>\n",
       "      <td>male</td>\n",
       "    </tr>\n",
       "    <tr>\n",
       "      <th>Age</th>\n",
       "      <td>714</td>\n",
       "      <td>29.69911764705882</td>\n",
       "      <td>14.526497332334035</td>\n",
       "      <td>0.42</td>\n",
       "      <td>80.0</td>\n",
       "    </tr>\n",
       "    <tr>\n",
       "      <th>SibSp</th>\n",
       "      <td>891</td>\n",
       "      <td>0.5230078563411896</td>\n",
       "      <td>1.1027434322934315</td>\n",
       "      <td>0</td>\n",
       "      <td>8</td>\n",
       "    </tr>\n",
       "    <tr>\n",
       "      <th>Parch</th>\n",
       "      <td>891</td>\n",
       "      <td>0.38159371492704824</td>\n",
       "      <td>0.8060572211299488</td>\n",
       "      <td>0</td>\n",
       "      <td>6</td>\n",
       "    </tr>\n",
       "    <tr>\n",
       "      <th>Ticket</th>\n",
       "      <td>891</td>\n",
       "      <td>260318.54916792738</td>\n",
       "      <td>471609.26868834975</td>\n",
       "      <td>110152</td>\n",
       "      <td>WE/P 5735</td>\n",
       "    </tr>\n",
       "    <tr>\n",
       "      <th>Fare</th>\n",
       "      <td>891</td>\n",
       "      <td>32.2042079685746</td>\n",
       "      <td>49.69342859718089</td>\n",
       "      <td>0.0</td>\n",
       "      <td>512.3292</td>\n",
       "    </tr>\n",
       "    <tr>\n",
       "      <th>Cabin</th>\n",
       "      <td>204</td>\n",
       "      <td>None</td>\n",
       "      <td>None</td>\n",
       "      <td>A10</td>\n",
       "      <td>T</td>\n",
       "    </tr>\n",
       "    <tr>\n",
       "      <th>Embarked</th>\n",
       "      <td>889</td>\n",
       "      <td>None</td>\n",
       "      <td>None</td>\n",
       "      <td>C</td>\n",
       "      <td>S</td>\n",
       "    </tr>\n",
       "  </tbody>\n",
       "</table>\n",
       "</div>"
      ],
      "text/plain": [
       "summary     count                 mean               stddev  \\\n",
       "PassengerId   891                446.0    257.3538420152301   \n",
       "Survived      891   0.3838383838383838  0.48659245426485753   \n",
       "Pclass        891    2.308641975308642   0.8360712409770491   \n",
       "Name          891                 None                 None   \n",
       "Sex           891                 None                 None   \n",
       "Age           714    29.69911764705882   14.526497332334035   \n",
       "SibSp         891   0.5230078563411896   1.1027434322934315   \n",
       "Parch         891  0.38159371492704824   0.8060572211299488   \n",
       "Ticket        891   260318.54916792738   471609.26868834975   \n",
       "Fare          891     32.2042079685746    49.69342859718089   \n",
       "Cabin         204                 None                 None   \n",
       "Embarked      889                 None                 None   \n",
       "\n",
       "summary                                                   min  \\\n",
       "PassengerId                                                 1   \n",
       "Survived                                                    0   \n",
       "Pclass                                                      1   \n",
       "Name         \"Andersson, Mr. August Edvard (\"\"Wennerstrom\"\")\"   \n",
       "Sex                                                    female   \n",
       "Age                                                      0.42   \n",
       "SibSp                                                       0   \n",
       "Parch                                                       0   \n",
       "Ticket                                                 110152   \n",
       "Fare                                                      0.0   \n",
       "Cabin                                                     A10   \n",
       "Embarked                                                    C   \n",
       "\n",
       "summary                              max  \n",
       "PassengerId                          891  \n",
       "Survived                               1  \n",
       "Pclass                                 3  \n",
       "Name         van Melkebeke, Mr. Philemon  \n",
       "Sex                                 male  \n",
       "Age                                 80.0  \n",
       "SibSp                                  8  \n",
       "Parch                                  6  \n",
       "Ticket                         WE/P 5735  \n",
       "Fare                            512.3292  \n",
       "Cabin                                  T  \n",
       "Embarked                               S  "
      ]
     },
     "execution_count": 46,
     "metadata": {},
     "output_type": "execute_result"
    }
   ],
   "source": [
    "titanic_ddf.describe().toPandas().set_index('summary').transpose()"
   ]
  },
  {
   "cell_type": "code",
   "execution_count": 47,
   "metadata": {},
   "outputs": [
    {
     "data": {
      "text/plain": [
       "712"
      ]
     },
     "execution_count": 47,
     "metadata": {},
     "output_type": "execute_result"
    }
   ],
   "source": [
    "titanic_ddf.dropna(subset=['Age', 'Embarked']).count()"
   ]
  },
  {
   "cell_type": "code",
   "execution_count": 48,
   "metadata": {},
   "outputs": [
    {
     "data": {
      "text/plain": [
       "Row(avg(Age)=29.69911764705882, stddev_samp(Age)=14.526497332334035)"
      ]
     },
     "execution_count": 48,
     "metadata": {},
     "output_type": "execute_result"
    }
   ],
   "source": [
    "titanic_ddf.agg(avg('Age'), stddev('Age')).first()"
   ]
  },
  {
   "cell_type": "code",
   "execution_count": 49,
   "metadata": {},
   "outputs": [
    {
     "data": {
      "text/plain": [
       "29.69911764705882"
      ]
     },
     "execution_count": 49,
     "metadata": {},
     "output_type": "execute_result"
    }
   ],
   "source": [
    "mean_age = titanic_ddf.agg({'Age':'avg'}).first()['avg(Age)']\n",
    "mean_age"
   ]
  },
  {
   "cell_type": "code",
   "execution_count": 50,
   "metadata": {
    "collapsed": true
   },
   "outputs": [],
   "source": [
    "mode_embarked=titanic_ddf.groupBy('Embarked').count().orderBy('count', ascending=False).first()['Embarked']"
   ]
  },
  {
   "cell_type": "code",
   "execution_count": 51,
   "metadata": {},
   "outputs": [
    {
     "data": {
      "text/html": [
       "<div>\n",
       "<table border=\"1\" class=\"dataframe\">\n",
       "  <thead>\n",
       "    <tr style=\"text-align: right;\">\n",
       "      <th>summary</th>\n",
       "      <th>count</th>\n",
       "      <th>mean</th>\n",
       "      <th>stddev</th>\n",
       "      <th>min</th>\n",
       "      <th>max</th>\n",
       "    </tr>\n",
       "  </thead>\n",
       "  <tbody>\n",
       "    <tr>\n",
       "      <th>PassengerId</th>\n",
       "      <td>891</td>\n",
       "      <td>446.0</td>\n",
       "      <td>257.3538420152301</td>\n",
       "      <td>1</td>\n",
       "      <td>891</td>\n",
       "    </tr>\n",
       "    <tr>\n",
       "      <th>Survived</th>\n",
       "      <td>891</td>\n",
       "      <td>0.3838383838383838</td>\n",
       "      <td>0.48659245426485753</td>\n",
       "      <td>0</td>\n",
       "      <td>1</td>\n",
       "    </tr>\n",
       "    <tr>\n",
       "      <th>Pclass</th>\n",
       "      <td>891</td>\n",
       "      <td>2.308641975308642</td>\n",
       "      <td>0.8360712409770491</td>\n",
       "      <td>1</td>\n",
       "      <td>3</td>\n",
       "    </tr>\n",
       "    <tr>\n",
       "      <th>Name</th>\n",
       "      <td>891</td>\n",
       "      <td>None</td>\n",
       "      <td>None</td>\n",
       "      <td>\"Andersson, Mr. August Edvard (\"\"Wennerstrom\"\")\"</td>\n",
       "      <td>van Melkebeke, Mr. Philemon</td>\n",
       "    </tr>\n",
       "    <tr>\n",
       "      <th>Sex</th>\n",
       "      <td>891</td>\n",
       "      <td>None</td>\n",
       "      <td>None</td>\n",
       "      <td>female</td>\n",
       "      <td>male</td>\n",
       "    </tr>\n",
       "    <tr>\n",
       "      <th>Age</th>\n",
       "      <td>891</td>\n",
       "      <td>29.699117647058763</td>\n",
       "      <td>13.002015226002891</td>\n",
       "      <td>0.42</td>\n",
       "      <td>80.0</td>\n",
       "    </tr>\n",
       "    <tr>\n",
       "      <th>SibSp</th>\n",
       "      <td>891</td>\n",
       "      <td>0.5230078563411896</td>\n",
       "      <td>1.1027434322934315</td>\n",
       "      <td>0</td>\n",
       "      <td>8</td>\n",
       "    </tr>\n",
       "    <tr>\n",
       "      <th>Parch</th>\n",
       "      <td>891</td>\n",
       "      <td>0.38159371492704824</td>\n",
       "      <td>0.8060572211299488</td>\n",
       "      <td>0</td>\n",
       "      <td>6</td>\n",
       "    </tr>\n",
       "    <tr>\n",
       "      <th>Ticket</th>\n",
       "      <td>891</td>\n",
       "      <td>260318.54916792738</td>\n",
       "      <td>471609.26868834975</td>\n",
       "      <td>110152</td>\n",
       "      <td>WE/P 5735</td>\n",
       "    </tr>\n",
       "    <tr>\n",
       "      <th>Fare</th>\n",
       "      <td>891</td>\n",
       "      <td>32.2042079685746</td>\n",
       "      <td>49.69342859718089</td>\n",
       "      <td>0.0</td>\n",
       "      <td>512.3292</td>\n",
       "    </tr>\n",
       "    <tr>\n",
       "      <th>Cabin</th>\n",
       "      <td>204</td>\n",
       "      <td>None</td>\n",
       "      <td>None</td>\n",
       "      <td>A10</td>\n",
       "      <td>T</td>\n",
       "    </tr>\n",
       "    <tr>\n",
       "      <th>Embarked</th>\n",
       "      <td>891</td>\n",
       "      <td>None</td>\n",
       "      <td>None</td>\n",
       "      <td>C</td>\n",
       "      <td>S</td>\n",
       "    </tr>\n",
       "  </tbody>\n",
       "</table>\n",
       "</div>"
      ],
      "text/plain": [
       "summary     count                 mean               stddev  \\\n",
       "PassengerId   891                446.0    257.3538420152301   \n",
       "Survived      891   0.3838383838383838  0.48659245426485753   \n",
       "Pclass        891    2.308641975308642   0.8360712409770491   \n",
       "Name          891                 None                 None   \n",
       "Sex           891                 None                 None   \n",
       "Age           891   29.699117647058763   13.002015226002891   \n",
       "SibSp         891   0.5230078563411896   1.1027434322934315   \n",
       "Parch         891  0.38159371492704824   0.8060572211299488   \n",
       "Ticket        891   260318.54916792738   471609.26868834975   \n",
       "Fare          891     32.2042079685746    49.69342859718089   \n",
       "Cabin         204                 None                 None   \n",
       "Embarked      891                 None                 None   \n",
       "\n",
       "summary                                                   min  \\\n",
       "PassengerId                                                 1   \n",
       "Survived                                                    0   \n",
       "Pclass                                                      1   \n",
       "Name         \"Andersson, Mr. August Edvard (\"\"Wennerstrom\"\")\"   \n",
       "Sex                                                    female   \n",
       "Age                                                      0.42   \n",
       "SibSp                                                       0   \n",
       "Parch                                                       0   \n",
       "Ticket                                                 110152   \n",
       "Fare                                                      0.0   \n",
       "Cabin                                                     A10   \n",
       "Embarked                                                    C   \n",
       "\n",
       "summary                              max  \n",
       "PassengerId                          891  \n",
       "Survived                               1  \n",
       "Pclass                                 3  \n",
       "Name         van Melkebeke, Mr. Philemon  \n",
       "Sex                                 male  \n",
       "Age                                 80.0  \n",
       "SibSp                                  8  \n",
       "Parch                                  6  \n",
       "Ticket                         WE/P 5735  \n",
       "Fare                            512.3292  \n",
       "Cabin                                  T  \n",
       "Embarked                               S  "
      ]
     },
     "execution_count": 51,
     "metadata": {},
     "output_type": "execute_result"
    }
   ],
   "source": [
    "prepared_ddf=titanic_ddf.fillna({'Age':mean_age, 'Embarked':mode_embarked})\n",
    "prepared_ddf.describe().toPandas().set_index('summary').transpose()"
   ]
  },
  {
   "cell_type": "markdown",
   "metadata": {},
   "source": [
    "# PIPELINE"
   ]
  },
  {
   "cell_type": "code",
   "execution_count": 52,
   "metadata": {
    "collapsed": true
   },
   "outputs": [],
   "source": [
    "nsex=StringIndexer(inputCol='Sex', outputCol='nsex')\n",
    "nembarked=StringIndexer(inputCol='Embarked', outputCol='nembarked')\n",
    "oheembarked=OneHotEncoder(inputCol='nembarked',outputCol='vembarked', dropLast=False)\n",
    "\n",
    "features = VectorAssembler(inputCols=['Pclass', 'nsex', 'Age', 'SibSp', 'Parch', 'Fare', 'vembarked'],\n",
    "                         outputCol='features')\n",
    "lr = LogisticRegression(labelCol='Survived')"
   ]
  },
  {
   "cell_type": "code",
   "execution_count": 53,
   "metadata": {
    "collapsed": true
   },
   "outputs": [],
   "source": [
    "pipeline = Pipeline(stages=[nsex, nembarked, oheembarked, features, lr])"
   ]
  },
  {
   "cell_type": "code",
   "execution_count": 54,
   "metadata": {
    "collapsed": true
   },
   "outputs": [],
   "source": [
    "train_ddf, test_ddf = prepared_ddf.randomSplit([0.7,0.3])\n",
    "assert train_ddf.count()+test_ddf.count()== prepared_ddf.count(), \"Problème avec le tirage\""
   ]
  },
  {
   "cell_type": "code",
   "execution_count": 55,
   "metadata": {
    "collapsed": true
   },
   "outputs": [],
   "source": [
    "model = pipeline.fit(train_ddf)"
   ]
  },
  {
   "cell_type": "code",
   "execution_count": 56,
   "metadata": {},
   "outputs": [
    {
     "name": "stdout",
     "output_type": "stream",
     "text": [
      "inputCols: input column names. (current: ['Pclass', 'nsex', 'Age', 'SibSp', 'Parch', 'Fare', 'vembarked'])\n",
      "outputCol: output column name. (default: VectorAssembler_4ed5aa74a48aa4b13ff1__output, current: features)\n"
     ]
    }
   ],
   "source": [
    "print(model.stages[-2].explainParams())"
   ]
  },
  {
   "cell_type": "code",
   "execution_count": 57,
   "metadata": {},
   "outputs": [
    {
     "data": {
      "text/plain": [
       "(0.4929433316518828,\n",
       " DenseVector([-1.2621, 2.9002, -0.0472, -0.3095, -0.1075, 0.0018, 2.0702, 2.5977, 2.4271]))"
      ]
     },
     "execution_count": 57,
     "metadata": {},
     "output_type": "execute_result"
    }
   ],
   "source": [
    "model.stages[-1].intercept, model.stages[-1].coefficients"
   ]
  },
  {
   "cell_type": "code",
   "execution_count": 58,
   "metadata": {},
   "outputs": [
    {
     "data": {
      "text/plain": [
       "Param(parent='VectorAssembler_4ed5aa74a48aa4b13ff1', name='inputCols', doc='input column names.')"
      ]
     },
     "execution_count": 58,
     "metadata": {},
     "output_type": "execute_result"
    }
   ],
   "source": [
    "model.stages[-2].getParam('inputCols')"
   ]
  },
  {
   "cell_type": "code",
   "execution_count": 59,
   "metadata": {
    "collapsed": true
   },
   "outputs": [],
   "source": [
    "predictions = model.transform(test_ddf)"
   ]
  },
  {
   "cell_type": "code",
   "execution_count": 60,
   "metadata": {},
   "outputs": [
    {
     "name": "stdout",
     "output_type": "stream",
     "text": [
      "root\n",
      " |-- PassengerId: integer (nullable = true)\n",
      " |-- Survived: integer (nullable = true)\n",
      " |-- Pclass: integer (nullable = true)\n",
      " |-- Name: string (nullable = true)\n",
      " |-- Sex: string (nullable = true)\n",
      " |-- Age: double (nullable = false)\n",
      " |-- SibSp: integer (nullable = true)\n",
      " |-- Parch: integer (nullable = true)\n",
      " |-- Ticket: string (nullable = true)\n",
      " |-- Fare: double (nullable = true)\n",
      " |-- Cabin: string (nullable = true)\n",
      " |-- Embarked: string (nullable = false)\n",
      " |-- nsex: double (nullable = true)\n",
      " |-- nembarked: double (nullable = true)\n",
      " |-- vembarked: vector (nullable = true)\n",
      " |-- features: vector (nullable = true)\n",
      " |-- rawPrediction: vector (nullable = true)\n",
      " |-- probability: vector (nullable = true)\n",
      " |-- prediction: double (nullable = true)\n",
      "\n"
     ]
    }
   ],
   "source": [
    "predictions.printSchema()"
   ]
  },
  {
   "cell_type": "code",
   "execution_count": 61,
   "metadata": {},
   "outputs": [
    {
     "name": "stdout",
     "output_type": "stream",
     "text": [
      "+--------+--------------------+--------------------+----------+\n",
      "|Survived|       rawPrediction|         probability|prediction|\n",
      "+--------+--------------------+--------------------+----------+\n",
      "|       1|[-2.7544580734868...|[0.05983536814706...|       1.0|\n",
      "|       1|[-0.4634272287588...|[0.38617310551784...|       1.0|\n",
      "|       1|[-2.3354831539984...|[0.08822658676276...|       1.0|\n",
      "|       0|[2.25359806014292...|[0.90496044482324...|       0.0|\n",
      "|       0|[2.31520580772565...|[0.91012857211821...|       0.0|\n",
      "+--------+--------------------+--------------------+----------+\n",
      "only showing top 5 rows\n",
      "\n"
     ]
    }
   ],
   "source": [
    "predictions.selectExpr('Survived', 'rawPrediction', 'probability', 'prediction').show(5)"
   ]
  },
  {
   "cell_type": "code",
   "execution_count": 62,
   "metadata": {},
   "outputs": [
    {
     "data": {
      "text/plain": [
       "0.7591240875912408"
      ]
     },
     "execution_count": 62,
     "metadata": {},
     "output_type": "execute_result"
    }
   ],
   "source": [
    "predictions[predictions['Survived'] == predictions['prediction']].count()/predictions.count()"
   ]
  },
  {
   "cell_type": "code",
   "execution_count": 63,
   "metadata": {
    "collapsed": true
   },
   "outputs": [],
   "source": [
    "rf=RandomForestClassifier(labelCol='Survived')\n",
    "pipeline_rf = Pipeline(stages=[nsex, nembarked, oheembarked, features, rf])"
   ]
  },
  {
   "cell_type": "code",
   "execution_count": 64,
   "metadata": {
    "collapsed": true
   },
   "outputs": [],
   "source": [
    "model_rf = pipeline_rf.fit(train_ddf)"
   ]
  },
  {
   "cell_type": "code",
   "execution_count": 65,
   "metadata": {
    "collapsed": true
   },
   "outputs": [],
   "source": [
    "predictions_rf = model_rf.transform(test_ddf)"
   ]
  },
  {
   "cell_type": "code",
   "execution_count": 66,
   "metadata": {},
   "outputs": [
    {
     "data": {
      "text/plain": [
       "0.7883211678832117"
      ]
     },
     "execution_count": 66,
     "metadata": {},
     "output_type": "execute_result"
    }
   ],
   "source": [
    "predictions_rf[predictions_rf['Survived'] == predictions_rf['prediction']].count()/predictions_rf.count()"
   ]
  },
  {
   "cell_type": "code",
   "execution_count": 67,
   "metadata": {},
   "outputs": [
    {
     "name": "stdout",
     "output_type": "stream",
     "text": [
      "+-------------------+---+---+\n",
      "|Survived_prediction|0.0|1.0|\n",
      "+-------------------+---+---+\n",
      "|                  1| 37| 76|\n",
      "|                  0|132| 29|\n",
      "+-------------------+---+---+\n",
      "\n"
     ]
    }
   ],
   "source": [
    "predictions.crosstab('Survived', 'prediction').show()"
   ]
  },
  {
   "cell_type": "code",
   "execution_count": 68,
   "metadata": {},
   "outputs": [
    {
     "data": {
      "text/plain": [
       "('areaUnderROC', 0.8220194580333087)"
      ]
     },
     "execution_count": 68,
     "metadata": {},
     "output_type": "execute_result"
    }
   ],
   "source": [
    "evaluation = BinaryClassificationEvaluator(labelCol='Survived', rawPredictionCol='rawPrediction')\n",
    "evaluation.getMetricName(), evaluation.evaluate(predictions)"
   ]
  },
  {
   "cell_type": "code",
   "execution_count": 69,
   "metadata": {},
   "outputs": [
    {
     "data": {
      "text/plain": [
       "('areaUnderROC', 0.816220524377508)"
      ]
     },
     "execution_count": 69,
     "metadata": {},
     "output_type": "execute_result"
    }
   ],
   "source": [
    "evaluation.getMetricName(), evaluation.evaluate(predictions_rf)"
   ]
  },
  {
   "cell_type": "code",
   "execution_count": 70,
   "metadata": {},
   "outputs": [
    {
     "data": {
      "image/png": "[encoded data removed]",
      "text/plain": [
       "<matplotlib.figure.Figure at 0x7f9d9ddf0c88>"
      ]
     },
     "metadata": {},
     "output_type": "display_data"
    }
   ],
   "source": [
    "resultats = [(float(i[0][0]), 1.0-float(i[1])) for i in predictions_rf.select(['probability', 'Survived']).collect()]\n",
    " \n",
    "fpr = dict()\n",
    "tpr = dict()\n",
    "roc_auc = dict()\n",
    " \n",
    "y_test = [i[1] for i in resultats]\n",
    "y_score = [i[0] for i in resultats]\n",
    " \n",
    "fpr, tpr, _ = roc_curve(y_test, y_score)\n",
    "roc_auc = auc(fpr, tpr)\n",
    " \n",
    "plt.figure()\n",
    "plt.plot(fpr, tpr, label='ROC curve (area = %0.2f)' % roc_auc)\n",
    "plt.plot([0, 1], [0, 1], 'k--')\n",
    "plt.xlim([0.0, 1.0])\n",
    "plt.ylim([0.0, 1.05])\n",
    "plt.xlabel('Taux de faux positifs')\n",
    "plt.ylabel('Taux de vrais positifs')\n",
    "plt.title('Courbe ROC')\n",
    "plt.legend(loc=\"lower right\")\n",
    "plt.show()"
   ]
  },
  {
   "cell_type": "code",
   "execution_count": 71,
   "metadata": {
    "collapsed": true
   },
   "outputs": [],
   "source": [
    "#GridSearch on logistic regression\n",
    "grid = ParamGridBuilder().addGrid(lr.maxIter, [50,100,200]).build()\n",
    "crossvalidator = CrossValidator(estimator=pipeline,\n",
    "                                estimatorParamMaps=grid,\n",
    "                               evaluator=BinaryClassificationEvaluator(labelCol='Survived'),\n",
    "                               numFolds=2)"
   ]
  },
  {
   "cell_type": "code",
   "execution_count": 72,
   "metadata": {
    "collapsed": true
   },
   "outputs": [],
   "source": [
    "cv_model = crossvalidator.fit(train_ddf)"
   ]
  },
  {
   "cell_type": "code",
   "execution_count": 73,
   "metadata": {
    "collapsed": true
   },
   "outputs": [],
   "source": [
    "cv_predictions = cv_model.transform(test_ddf)"
   ]
  },
  {
   "cell_type": "code",
   "execution_count": 74,
   "metadata": {},
   "outputs": [
    {
     "data": {
      "text/plain": [
       "('areaUnderROC', 0.8220194580333087)"
      ]
     },
     "execution_count": 74,
     "metadata": {},
     "output_type": "execute_result"
    }
   ],
   "source": [
    "evaluation.getMetricName(), evaluation.evaluate(cv_predictions)"
   ]
  },
  {
   "cell_type": "code",
   "execution_count": 76,
   "metadata": {
    "collapsed": true
   },
   "outputs": [],
   "source": [
    "#GridSearch on random forest\n",
    "grid_rf = (ParamGridBuilder()\n",
    "           .addGrid(rf.numTrees, [50,100])\n",
    "           .addGrid(rf.maxDepth, [3, 5, 8]).build())"
   ]
  },
  {
   "cell_type": "code",
   "execution_count": 77,
   "metadata": {
    "collapsed": true
   },
   "outputs": [],
   "source": [
    "crossvalidator_rf = CrossValidator(estimator=pipeline_rf,\n",
    "                                estimatorParamMaps=grid_rf,\n",
    "                               evaluator=BinaryClassificationEvaluator(labelCol='Survived'),\n",
    "                               numFolds=2)"
   ]
  },
  {
   "cell_type": "code",
   "execution_count": 78,
   "metadata": {
    "collapsed": true
   },
   "outputs": [],
   "source": [
    "cv_model_rf = crossvalidator_rf.fit(train_ddf)"
   ]
  },
  {
   "cell_type": "code",
   "execution_count": 79,
   "metadata": {
    "collapsed": true
   },
   "outputs": [],
   "source": [
    "cv_predictions_rf = cv_model_rf.transform(test_ddf)"
   ]
  },
  {
   "cell_type": "code",
   "execution_count": 80,
   "metadata": {},
   "outputs": [
    {
     "data": {
      "text/plain": [
       "('areaUnderROC', 0.837300060462815)"
      ]
     },
     "execution_count": 80,
     "metadata": {},
     "output_type": "execute_result"
    }
   ],
   "source": [
    "evaluation.getMetricName(), evaluation.evaluate(cv_predictions_rf)"
   ]
  },
  {
   "cell_type": "code",
   "execution_count": 2,
   "metadata": {
    "collapsed": true
   },
   "outputs": [],
   "source": [
    "##### FIN DU SCRIPT #####"
   ]
  }
 ],
 "metadata": {
  "kernelspec": {
   "display_name": "Python 3",
   "language": "python",
   "name": "python3"
  },
  "language_info": {
   "codemirror_mode": {
    "name": "ipython",
    "version": 3
   },
   "file_extension": ".py",
   "mimetype": "text/x-python",
   "name": "python",
   "nbconvert_exporter": "python",
   "pygments_lexer": "ipython3",
   "version": "3.6.1"
  }
 },
 "nbformat": 4,
 "nbformat_minor": 2
}
